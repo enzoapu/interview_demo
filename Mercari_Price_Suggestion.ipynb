{
 "cells": [
  {
   "cell_type": "code",
   "execution_count": 1,
   "metadata": {},
   "outputs": [],
   "source": [
    "import numpy as np\n",
    "import pandas as pd\n",
    "import matplotlib.pyplot as plt\n",
    "%matplotlib inline\n",
    "\n",
    "import gc\n",
    "import time\n",
    "from scipy.sparse import csr_matrix, hstack\n",
    "from sklearn.linear_model import Ridge\n",
    "from sklearn.metrics import mean_squared_error\n",
    "from sklearn.feature_extraction.text import CountVectorizer, TfidfVectorizer\n",
    "from sklearn.preprocessing import LabelBinarizer\n",
    "from sklearn.model_selection import train_test_split, cross_val_score\n",
    "# import seaborn as sns\n",
    "# sns.set(style=\"white\")"
   ]
  },
  {
   "cell_type": "code",
   "execution_count": 4,
   "metadata": {},
   "outputs": [
    {
     "name": "stdout",
     "output_type": "stream",
     "text": [
      "價格數序性統計\n",
      "count    1482535.0\n",
      "mean          27.0\n",
      "std           39.0\n",
      "min            0.0\n",
      "25%           10.0\n",
      "50%           17.0\n",
      "75%           29.0\n",
      "max         2009.0\n",
      "Name: price, dtype: float64\n"
     ]
    }
   ],
   "source": [
    "train = pd.read_table('dataset/train.tsv', engine='c')\n",
    "\n",
    "print('價格數序性統計\\n' + str(round(train.price.describe())))"
   ]
  },
  {
   "cell_type": "code",
   "execution_count": 23,
   "metadata": {},
   "outputs": [
    {
     "ename": "NameError",
     "evalue": "name 'train' is not defined",
     "output_type": "error",
     "traceback": [
      "\u001b[1;31m---------------------------------------------------------------------------\u001b[0m",
      "\u001b[1;31mNameError\u001b[0m                                 Traceback (most recent call last)",
      "\u001b[1;32m<ipython-input-23-3536571a9bc3>\u001b[0m in \u001b[0;36m<module>\u001b[1;34m()\u001b[0m\n\u001b[1;32m----> 1\u001b[1;33m \u001b[0mtrain\u001b[0m\u001b[1;33m\u001b[0m\u001b[0m\n\u001b[0m",
      "\u001b[1;31mNameError\u001b[0m: name 'train' is not defined"
     ]
    }
   ],
   "source": [
    "train"
   ]
  },
  {
   "cell_type": "code",
   "execution_count": 6,
   "metadata": {},
   "outputs": [],
   "source": [
    "# 選擇比較熱門的品牌數值當作分析依據，其他以missing value代替之\n",
    "dataset = train\n",
    "brandnum = dataset['brand_name'].value_counts().loc[lambda x: x.index != 'missing']\n",
    "NUM_BRANDS = len(brandnum) - len(brandnum[brandnum<=4]) #中位數評斷\n",
    "\n",
    "# 選擇熱門的種類當作參考，其他以missing value代替之\n",
    "NUM_CATEGORIES = 1000\n",
    "\n",
    "# 製作項目名稱詞袋時，所有被算入的字詞最少要有被提到過10次以上，否則不列入計算\n",
    "NAME_MIN_DF = 10\n",
    "\n",
    "# 製作description詞向量時，最大的feature以重要的50000字為主\n",
    "MAX_FEATURES_ITEM_DESCRIPTION = 10000"
   ]
  },
  {
   "cell_type": "code",
   "execution_count": 7,
   "metadata": {},
   "outputs": [
    {
     "name": "stdout",
     "output_type": "stream",
     "text": [
      "10.893622875213623 完成切分時間\n",
      "[11.716670036315918] 處理遺失值的時間.\n",
      "[14.32081913948059] 處理熱門品牌時間.\n",
      "[15.947911977767944] 轉換成名目變數\n",
      "[34.6169798374176] Count vectorize `name` completed.\n",
      "[63.56263542175293] categories詞袋完成.\n"
     ]
    }
   ],
   "source": [
    "# 以RMSLE當作損失函數\n",
    "def rmsle(y_true, y_pred):\n",
    "    assert len(y_true) == len(y_pred)\n",
    "    return np.sqrt(np.mean(np.power(np.log1p(y_true) - np.log1p(y_pred), 2)))\n",
    "\n",
    "# 將category分得更系的切分函數\n",
    "def split_cat(text):\n",
    "    try: return text.split(\"/\")\n",
    "    except: return (\"No Label\", \"No Label\", \"No Label\")\n",
    "\n",
    "# 部份變數有遺失值，填寫成NA函數\n",
    "def handle_missing_inplace(dataset):\n",
    "    dataset['general_cat'].fillna(value='missing', inplace=True)\n",
    "    dataset['subcat_1'].fillna(value='missing', inplace=True)\n",
    "    dataset['subcat_2'].fillna(value='missing', inplace=True)\n",
    "    dataset['brand_name'].fillna(value='missing', inplace=True)\n",
    "    dataset['item_description'].fillna(value='missing', inplace=True)\n",
    "\n",
    "# 挑選出表現成績好的品牌與分類，當作分析依據\n",
    "def cutting(dataset):\n",
    "    pop_brand = dataset['brand_name'].value_counts().loc[lambda x: x.index != 'missing'].index[:NUM_BRANDS]\n",
    "    dataset.loc[~dataset['brand_name'].isin(pop_brand), 'brand_name'] = 'missing'\n",
    "    pop_category1 = dataset['general_cat'].value_counts().loc[lambda x: x.index != 'missing'].index[:NUM_CATEGORIES]\n",
    "    pop_category2 = dataset['subcat_1'].value_counts().loc[lambda x: x.index != 'missing'].index[:NUM_CATEGORIES]\n",
    "    pop_category3 = dataset['subcat_2'].value_counts().loc[lambda x: x.index != 'missing'].index[:NUM_CATEGORIES]\n",
    "    dataset.loc[~dataset['general_cat'].isin(pop_category1), 'general_cat'] = 'missing'\n",
    "    dataset.loc[~dataset['subcat_1'].isin(pop_category2), 'subcat_1'] = 'missing'\n",
    "    dataset.loc[~dataset['subcat_2'].isin(pop_category3), 'subcat_2'] = 'missing'\n",
    "\n",
    "# 挑選將category變成類別函數\n",
    "def to_categorical(dataset):\n",
    "    dataset['general_cat'] = dataset['general_cat'].astype('category')\n",
    "    dataset['subcat_1'] = dataset['subcat_1'].astype('category')\n",
    "    dataset['subcat_2'] = dataset['subcat_2'].astype('category')\n",
    "    dataset['item_condition_id'] = dataset['item_condition_id'].astype('category')\n",
    "    \n",
    "start_time = time.time()\n",
    "\n",
    "# 統計test data的欄數\n",
    "nrow_test = train.shape[0] #-dftt.shape[0]\n",
    "\n",
    "# 將小於1美元的（對於平台業者沒價值的商品）商品移除\n",
    "dftt = train[(train.price < 1.0)]\n",
    "train = train.drop(train[(train.price < 1.0)].index)\n",
    "\n",
    "nrow_train = train.shape[0] #-dftt.shape[0]\n",
    "\n",
    "#y = train[\"price\"]\n",
    "merge: pd.DataFrame = pd.concat([train, dftt])\n",
    "y = np.log1p(merge[\"price\"])\n",
    "del merge['price']\n",
    "#merge: pd.DataFrame = pd.concat([train, dftt, test])\n",
    "\n",
    "del train\n",
    "gc.collect()\n",
    "\n",
    "# 將category_name切成三塊，再將原本category_name移除，這樣分析的就更仔細拉\n",
    "merge['general_cat'], merge['subcat_1'], merge['subcat_2'] = zip(*merge['category_name'].apply(lambda x: split_cat(x)))\n",
    "merge.drop('category_name', axis=1, inplace=True)\n",
    "print('{} 完成切分時間'.format(time.time() - start_time))\n",
    "\n",
    "# 處理NA\n",
    "handle_missing_inplace(merge)\n",
    "print('[{}] 處理遺失值的時間.'.format(time.time() - start_time))\n",
    "\n",
    "# 將popular品牌挑選出來，把明不見經傳的品牌或僅有1次出現的變成遺失值，避免造成過度擬和(overfitting)之狀況\n",
    "cutting(merge)\n",
    "print('[{}] 處理熱門品牌時間.'.format(time.time() - start_time))\n",
    "\n",
    "to_categorical(merge)\n",
    "print('[{}] 轉換成名目變數'.format(time.time() - start_time))\n",
    "\n",
    "# 如果字數出現次數小於10，便不進行字數的計算（vector space model）\n",
    "cv = CountVectorizer(min_df=NAME_MIN_DF)\n",
    "X_name = cv.fit_transform(merge['name'])\n",
    "print('[{}] Count vectorize `name` completed.'.format(time.time() - start_time))\n",
    "\n",
    "# 將Category轉變成計數形式（vector space model）\n",
    "cv = CountVectorizer()\n",
    "X_category1 = cv.fit_transform(merge['general_cat'])\n",
    "X_category2 = cv.fit_transform(merge['subcat_1'])\n",
    "X_category3 = cv.fit_transform(merge['subcat_2'])\n",
    "print('[{}] categories詞袋完成.'.format(time.time() - start_time))"
   ]
  },
  {
   "cell_type": "code",
   "execution_count": 8,
   "metadata": {},
   "outputs": [
    {
     "name": "stdout",
     "output_type": "stream",
     "text": [
      "[425.42133259773254] TFIDF於 item_description花費時間.\n",
      "[549.1854114532471] one hot encoding於 brand_name花費時間 .\n",
      "[563.4552278518677] 將item_condition_id 及 shipping 轉變成類別變數的時間.\n",
      "[603.0554926395416] 將所有非結構化變數轉變成稀疏-結構化矩陣\n"
     ]
    }
   ],
   "source": [
    "# 在item_description以tf-idf法做\n",
    "tv = TfidfVectorizer(max_features=MAX_FEATURES_ITEM_DESCRIPTION,\n",
    "                     ngram_range=(1, 3),\n",
    "                     stop_words='english')\n",
    "\n",
    "X_description = tv.fit_transform(merge['item_description'])\n",
    "print('[{}] TFIDF於 item_description花費時間.'.format(time.time() - start_time))\n",
    "\n",
    "# 做brand name, item_condition_id, shipping變數 的 one hot encoding\n",
    "lb = LabelBinarizer(sparse_output=True)\n",
    "X_brand = lb.fit_transform(merge['brand_name'])\n",
    "print('[{}] one hot encoding於 brand_name花費時間 .'.format(time.time() - start_time))\n",
    "\n",
    "X_dummies = csr_matrix(pd.get_dummies(merge[['item_condition_id', 'shipping']],\n",
    "                                      sparse=True).values.astype(int))\n",
    "print('[{}] 將item_condition_id 及 shipping 轉變成類別變數的時間.'.format(time.time() - start_time))\n",
    "\n",
    "# 將所有非結構化變數轉變成稀疏-結構化矩陣，以便分析\n",
    "sparse_merge = hstack((X_dummies, X_description, X_brand, X_category1, X_category2, X_category3, X_name)).tocsr()\n",
    "print('[{}] 將所有非結構化變數轉變成稀疏-結構化矩陣'.format(time.time() - start_time))"
   ]
  },
  {
   "cell_type": "code",
   "execution_count": null,
   "metadata": {},
   "outputs": [],
   "source": [
    "joblib.dump(tv, 'model/tfidf_vectorizer.sav')"
   ]
  },
  {
   "cell_type": "code",
   "execution_count": null,
   "metadata": {},
   "outputs": [],
   "source": [
    "joblib.dump(lb, 'model/label_binarizer.sav')"
   ]
  },
  {
   "cell_type": "code",
   "execution_count": 10,
   "metadata": {},
   "outputs": [
    {
     "name": "stdout",
     "output_type": "stream",
     "text": [
      "[677.7827670574188] Train ridge completed\n",
      "[677.8177688121796] Predict ridge completed\n",
      "0.4735677097796905\n"
     ]
    }
   ],
   "source": [
    "train_X, test_X, train_y, test_y = train_test_split(sparse_merge, y, test_size = 0.1, random_state = 144) \n",
    "\n",
    "model = Ridge(alpha=.5, copy_X=True, fit_intercept=True, max_iter=100,\n",
    "  normalize=False, random_state=101, solver='auto', tol=0.01)\n",
    "\n",
    "model.fit(train_X, train_y)\n",
    "print('[{}] Train ridge completed'.format(time.time() - start_time))\n",
    "predsR = model.predict(X=test_X)\n",
    "print('[{}] Predict ridge completed'.format(time.time() - start_time))\n",
    "\n",
    "rmsleR = rmsle(predsR, test_y)\n",
    "rmsle(np.expm1(predsR), np.expm1(test_y))\n",
    "np.sqrt(mean_squared_error(np.expm1(predsR), np.expm1(test_y)))\n",
    "print(rmsle(np.expm1(predsR), np.expm1(test_y)))\n",
    "#  0.4676692829338082"
   ]
  },
  {
   "cell_type": "markdown",
   "metadata": {},
   "source": [
    "## Save model"
   ]
  },
  {
   "cell_type": "markdown",
   "metadata": {},
   "source": [
    "### joblib"
   ]
  },
  {
   "cell_type": "markdown",
   "metadata": {},
   "source": [
    "### joblib"
   ]
  },
  {
   "cell_type": "code",
   "execution_count": 18,
   "metadata": {},
   "outputs": [
    {
     "data": {
      "text/plain": [
       "['model/model_ridge.sav']"
      ]
     },
     "execution_count": 18,
     "metadata": {},
     "output_type": "execute_result"
    }
   ],
   "source": [
    "from sklearn.externals import joblib\n",
    "joblib.dump(model, 'model/model_ridge.sav')"
   ]
  },
  {
   "cell_type": "code",
   "execution_count": 16,
   "metadata": {},
   "outputs": [
    {
     "name": "stdout",
     "output_type": "stream",
     "text": [
      "[1263.1762495040894] Predict ridge completed\n",
      "0.4735677097796905\n"
     ]
    }
   ],
   "source": [
    "joblib_model = joblib.load('model/model_ridge.sav')\n",
    "predsR = joblib_model.predict(X=test_X)\n",
    "print('[{}] Predict ridge completed'.format(time.time() - start_time))\n",
    "\n",
    "rmsleR = rmsle(predsR, test_y)\n",
    "rmsle(np.expm1(predsR), np.expm1(test_y))\n",
    "np.sqrt(mean_squared_error(np.expm1(predsR), np.expm1(test_y)))\n",
    "print(rmsle(np.expm1(predsR), np.expm1(test_y)))"
   ]
  },
  {
   "cell_type": "code",
   "execution_count": 11,
   "metadata": {},
   "outputs": [
    {
     "data": {
      "text/html": [
       "<div>\n",
       "<style scoped>\n",
       "    .dataframe tbody tr th:only-of-type {\n",
       "        vertical-align: middle;\n",
       "    }\n",
       "\n",
       "    .dataframe tbody tr th {\n",
       "        vertical-align: top;\n",
       "    }\n",
       "\n",
       "    .dataframe thead th {\n",
       "        text-align: right;\n",
       "    }\n",
       "</style>\n",
       "<table border=\"1\" class=\"dataframe\">\n",
       "  <thead>\n",
       "    <tr style=\"text-align: right;\">\n",
       "      <th></th>\n",
       "      <th>Pred_price</th>\n",
       "      <th>true_price</th>\n",
       "    </tr>\n",
       "  </thead>\n",
       "  <tbody>\n",
       "    <tr>\n",
       "      <th>0</th>\n",
       "      <td>9.649394</td>\n",
       "      <td>9.0</td>\n",
       "    </tr>\n",
       "    <tr>\n",
       "      <th>1</th>\n",
       "      <td>58.924672</td>\n",
       "      <td>11.0</td>\n",
       "    </tr>\n",
       "    <tr>\n",
       "      <th>2</th>\n",
       "      <td>24.160130</td>\n",
       "      <td>40.0</td>\n",
       "    </tr>\n",
       "    <tr>\n",
       "      <th>3</th>\n",
       "      <td>14.870223</td>\n",
       "      <td>22.0</td>\n",
       "    </tr>\n",
       "    <tr>\n",
       "      <th>4</th>\n",
       "      <td>21.988410</td>\n",
       "      <td>84.0</td>\n",
       "    </tr>\n",
       "    <tr>\n",
       "      <th>5</th>\n",
       "      <td>13.354307</td>\n",
       "      <td>12.0</td>\n",
       "    </tr>\n",
       "    <tr>\n",
       "      <th>6</th>\n",
       "      <td>16.567349</td>\n",
       "      <td>14.0</td>\n",
       "    </tr>\n",
       "    <tr>\n",
       "      <th>7</th>\n",
       "      <td>37.055872</td>\n",
       "      <td>26.0</td>\n",
       "    </tr>\n",
       "    <tr>\n",
       "      <th>8</th>\n",
       "      <td>29.321192</td>\n",
       "      <td>23.0</td>\n",
       "    </tr>\n",
       "    <tr>\n",
       "      <th>9</th>\n",
       "      <td>29.490493</td>\n",
       "      <td>36.0</td>\n",
       "    </tr>\n",
       "  </tbody>\n",
       "</table>\n",
       "</div>"
      ],
      "text/plain": [
       "   Pred_price  true_price\n",
       "0    9.649394         9.0\n",
       "1   58.924672        11.0\n",
       "2   24.160130        40.0\n",
       "3   14.870223        22.0\n",
       "4   21.988410        84.0\n",
       "5   13.354307        12.0\n",
       "6   16.567349        14.0\n",
       "7   37.055872        26.0\n",
       "8   29.321192        23.0\n",
       "9   29.490493        36.0"
      ]
     },
     "execution_count": 11,
     "metadata": {},
     "output_type": "execute_result"
    }
   ],
   "source": [
    "pred_true_df = pd.concat([pd.DataFrame(predsR),pd.DataFrame(test_y.reset_index() )], axis = 1)\n",
    "del pred_true_df['index']\n",
    "pred_true_df.columns = ['Pred_price', 'true_price']\n",
    "pred_true_df['Pred_price'] = np.expm1(pred_true_df['Pred_price'] )\n",
    "pred_true_df['true_price'] = np.expm1(pred_true_df['true_price'] )\n",
    "\n",
    "pred_true_df.head(10)"
   ]
  },
  {
   "cell_type": "code",
   "execution_count": 12,
   "metadata": {},
   "outputs": [
    {
     "name": "stdout",
     "output_type": "stream",
     "text": [
      "真實值比預測值高的有71755個\n",
      "預測值高比真實值比高的有76499個\n"
     ]
    },
    {
     "data": {
      "text/plain": [
       "-3.6154141544640654"
      ]
     },
     "execution_count": 12,
     "metadata": {},
     "output_type": "execute_result"
    }
   ],
   "source": [
    "print( '真實值比預測值高的有' + str(len(pred_true_df[pred_true_df['true_price']>pred_true_df['Pred_price'] ])) + '個')\n",
    "# 真實值比預測值高的有71263個\n",
    "\n",
    "print( '預測值高比真實值比高的有' + str(len(pred_true_df[pred_true_df['true_price']<pred_true_df['Pred_price'] ])) + '個')\n",
    "# 預測值高比真實值比高的有76904個\n",
    "\n",
    "(pred_true_df['Pred_price'] -  pred_true_df['true_price']).mean()\n",
    "# 平均價格 -3.3035621763466594"
   ]
  },
  {
   "cell_type": "code",
   "execution_count": null,
   "metadata": {},
   "outputs": [],
   "source": []
  }
 ],
 "metadata": {
  "kernelspec": {
   "display_name": "Python 3",
   "language": "python",
   "name": "python3"
  },
  "language_info": {
   "codemirror_mode": {
    "name": "ipython",
    "version": 3
   },
   "file_extension": ".py",
   "mimetype": "text/x-python",
   "name": "python",
   "nbconvert_exporter": "python",
   "pygments_lexer": "ipython3",
   "version": "3.6.4"
  },
  "toc": {
   "base_numbering": 1,
   "nav_menu": {},
   "number_sections": false,
   "sideBar": true,
   "skip_h1_title": false,
   "title_cell": "Table of Contents",
   "title_sidebar": "Contents",
   "toc_cell": false,
   "toc_position": {},
   "toc_section_display": true,
   "toc_window_display": false
  },
  "varInspector": {
   "cols": {
    "lenName": 16,
    "lenType": 16,
    "lenVar": 40
   },
   "kernels_config": {
    "python": {
     "delete_cmd_postfix": "",
     "delete_cmd_prefix": "del ",
     "library": "var_list.py",
     "varRefreshCmd": "print(var_dic_list())"
    },
    "r": {
     "delete_cmd_postfix": ") ",
     "delete_cmd_prefix": "rm(",
     "library": "var_list.r",
     "varRefreshCmd": "cat(var_dic_list()) "
    }
   },
   "types_to_exclude": [
    "module",
    "function",
    "builtin_function_or_method",
    "instance",
    "_Feature"
   ],
   "window_display": false
  }
 },
 "nbformat": 4,
 "nbformat_minor": 2
}
